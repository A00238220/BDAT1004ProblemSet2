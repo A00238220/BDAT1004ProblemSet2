{
 "cells": [
  {
   "cell_type": "code",
   "execution_count": 1,
   "id": "4191e515",
   "metadata": {},
   "outputs": [],
   "source": [
    "#Question 1\n",
    "\n",
    "#What value is displayed when the last expression (a) is evaluated? Explain your answer by indicating what happens in every executed statement."
   ]
  },
  {
   "cell_type": "code",
   "execution_count": 2,
   "id": "ee599fa7",
   "metadata": {},
   "outputs": [
    {
     "data": {
      "text/plain": [
       "6"
      ]
     },
     "execution_count": 2,
     "metadata": {},
     "output_type": "execute_result"
    }
   ],
   "source": [
    "#Solution\n",
    "a = 0\n",
    "def b():\n",
    "    global a\n",
    "    a = c(a)\n",
    "    return a\n",
    "\n",
    "def c(a):\n",
    "    return a + 2\n",
    "\n",
    "b() #a=2\n",
    "b() #a=4\n",
    "b() #a=6\n",
    "a"
   ]
  },
  {
   "cell_type": "code",
   "execution_count": 3,
   "id": "26202b9b",
   "metadata": {},
   "outputs": [],
   "source": [
    "#In the first execution of b(), a = 2 (i.e 0 + 2), \n",
    "#the second execution returns a = 4 (i.e 2 + 2), \n",
    "#and the last execution returns a = 6 (i.e 4 + 2)\n",
    "#Since, 'a' is a global variable, it is changed everytime the function b is called"
   ]
  },
  {
   "cell_type": "code",
   "execution_count": 4,
   "id": "ce484074",
   "metadata": {},
   "outputs": [],
   "source": [
    "# Question 2\n",
    "\n",
    "# Function fileLength(), given to you, takes the name of a file as input and returns the length of the file:\n",
    "\n",
    "# fileLength('midterm.py') 284 fileLength('idterm.py') Traceback (most recent call last): File \"\", line 1, in fileLength('idterm.py') File \"/Users/me/midterm.py\", line 3, in fileLength infile = open(filename) FileNotFoundError: [Errno 2] No such file or directory: 'idterm.py'\n",
    "\n",
    "# As shown above, if the file cannot be found by the interpreter or if it cannot be read as a text file, an exception will be raised. Modify function fileLength() so that a friendly message is printed instead:"
   ]
  },
  {
   "cell_type": "code",
   "execution_count": 5,
   "id": "3ef25257",
   "metadata": {},
   "outputs": [],
   "source": [
    "# defining function\n",
    "def fileLength(filename):\n",
    "    \n",
    "#     creating try except block\n",
    "    try:\n",
    "        with open(filename,\"r\") as f:\n",
    "            print(len(f.readlines()))\n",
    "            f.close()\n",
    "    except FileNotFoundError:\n",
    "        print(f\"File {filename} not found.\")\n",
    "        \n"
   ]
  },
  {
   "cell_type": "code",
   "execution_count": 6,
   "id": "b6f9673e",
   "metadata": {},
   "outputs": [
    {
     "name": "stdout",
     "output_type": "stream",
     "text": [
      "61\n"
     ]
    }
   ],
   "source": [
    "fileLength(\"PB2.txt\")"
   ]
  },
  {
   "cell_type": "code",
   "execution_count": 7,
   "id": "abfc71ae",
   "metadata": {},
   "outputs": [
    {
     "name": "stdout",
     "output_type": "stream",
     "text": [
      "File PB1.txt not found.\n"
     ]
    }
   ],
   "source": [
    "fileLength(\"PB1.txt\")"
   ]
  },
  {
   "cell_type": "code",
   "execution_count": 8,
   "id": "67b05d91",
   "metadata": {},
   "outputs": [],
   "source": [
    "# Question 3\n",
    "\n",
    "# Write a class named Marsupial that can be used as shown below:\n",
    "\n",
    "# m = Marsupial() m.put_in_pouch('doll') m.put_in_pouch('firetruck') m.put_in_pouch('kitten') m.pouch_contents() ['doll', 'firetruck', 'kitten']\n",
    "\n",
    "# Now write a class named Kangaroo as a subclass of Marsupial that inherits all the attributes of Marsupial and also: a. extends the Marsupial init constructor to take, as input, the coordinates x and y of the Kangaroo object, b. supports method jump that takes number values dx and dy as input and moves the kangaroo by dx units along the x-axis and by dy units along the yaxis, and c. overloads the str operator so it behaves as shown below.\n",
    "\n",
    "# k = Kangaroo(0,0) print(k) I am a Kangaroo located at coordinates (0,0) k.put_in_pouch('doll') k.put_in_pouch('firetruck') k.put_in_pouch('kitten') k.pouch_contents() 'doll', 'firetruck', 'kitten' k.jump(1,0) k.jump(1,0) k.jump(1,0) print(k) I am a Kangaroo located at coordinates (3,0)"
   ]
  },
  {
   "cell_type": "code",
   "execution_count": 9,
   "id": "19997131",
   "metadata": {},
   "outputs": [
    {
     "data": {
      "text/plain": [
       "['doll', 'firetruck', 'kitten']"
      ]
     },
     "execution_count": 9,
     "metadata": {},
     "output_type": "execute_result"
    }
   ],
   "source": [
    "# creating class object\n",
    "class Marsupial(object):\n",
    "    \n",
    "#     defining init method\n",
    "    def __init__(self):\n",
    "        \n",
    "#         creating empty list\n",
    "        self.mylist = []\n",
    "    \n",
    "#     creating method to add items to empty list\n",
    "    def put_in_pouch(self, item):            \n",
    "        self.mylist.append(item)\n",
    "        \n",
    "#         creating method to print content of list\n",
    "    def pouch_contents(self):                \n",
    "        return self.mylist \n",
    "\n",
    "m = Marsupial()\n",
    "m.put_in_pouch('doll')\n",
    "m.put_in_pouch('firetruck')\n",
    "m.put_in_pouch('kitten')\n",
    "m.pouch_contents()"
   ]
  },
  {
   "cell_type": "code",
   "execution_count": 10,
   "id": "0c34f2a1",
   "metadata": {},
   "outputs": [
    {
     "name": "stdout",
     "output_type": "stream",
     "text": [
      "I am a Kangaroo located at coordinates (0,0)\n"
     ]
    }
   ],
   "source": [
    "# creating subclass\n",
    "class Kangaroo(Marsupial):                      \n",
    "    \n",
    "#     extending the init method\n",
    "    def __init__(self, x, y):                                     \n",
    "        Marsupial.__init__(self)                \n",
    "        self.x = x                                \n",
    "        self.y = y\n",
    "        \n",
    "#     creating a jump method                              \n",
    "    def jump(self, dx, dy):                         \n",
    "        self.x = self.x + dx\n",
    "        self.y = self.y + dy\n",
    "        \n",
    "#     creating a string method to return output    \n",
    "    def __str__(self):                           \n",
    "        return 'I am a Kangaroo located at coordinates ({},{})'.format(self.x,self.y)\n",
    "    \n",
    "k = Kangaroo(0,0)\n",
    "print(k)"
   ]
  },
  {
   "cell_type": "code",
   "execution_count": 11,
   "id": "03b75b82",
   "metadata": {},
   "outputs": [
    {
     "data": {
      "text/plain": [
       "['doll', 'firetruck', 'kitten']"
      ]
     },
     "execution_count": 11,
     "metadata": {},
     "output_type": "execute_result"
    }
   ],
   "source": [
    "k.put_in_pouch('doll')\n",
    "k.put_in_pouch('firetruck')\n",
    "k.put_in_pouch('kitten')\n",
    "k.pouch_contents()"
   ]
  },
  {
   "cell_type": "code",
   "execution_count": 12,
   "id": "719b742e",
   "metadata": {},
   "outputs": [
    {
     "name": "stdout",
     "output_type": "stream",
     "text": [
      "I am a Kangaroo located at coordinates (3,0)\n"
     ]
    }
   ],
   "source": [
    "k.jump(1,0)\n",
    "k.jump(1,0)\n",
    "k.jump(1,0)\n",
    "print(k)"
   ]
  },
  {
   "cell_type": "code",
   "execution_count": 13,
   "id": "f69c576b",
   "metadata": {},
   "outputs": [],
   "source": [
    "# Question 4\n",
    "\n",
    "# Write function collatz() that takes a positive integer x as input and prints the Collatz sequence starting at x. \n",
    "# A Collatz sequence is obtained by repeatedly applying this rule to the previous number x in the sequence: \n",
    "# x = { 𝑥/2 𝑖𝑓 𝑥 𝑖𝑠 𝑒𝑣𝑒𝑛 3𝑥 + 1 𝑖𝑓 𝑥 𝑖𝑠 𝑜𝑑𝑑 Your function should stop when the sequence gets to number 1. \n",
    "# Your implementation must be recursive, without any loops.\n",
    "# collatz(1)\n",
    "# 1\n",
    "# collatz(10)\n",
    "# 10 5 16 8 4 2 1"
   ]
  },
  {
   "cell_type": "code",
   "execution_count": 14,
   "id": "222abb8a",
   "metadata": {},
   "outputs": [],
   "source": [
    "# defining collatz function\n",
    "def collatz(x):                   \n",
    "#    setting conditional statement to validate recurssion\n",
    "\n",
    "    if x != 1:\n",
    "        \n",
    "#         validating x for even numbers\n",
    "        if x%2 == 0:               \n",
    "            print(int(x))         \n",
    "            collatz(x/2)       \n",
    "        \n",
    "        else:\n",
    "#             validating x for odd numbers\n",
    "            print(int(x))         \n",
    "            collatz(3*x+1)          \n",
    "  \n",
    "    else:\n",
    "        print(int(x)); "
   ]
  },
  {
   "cell_type": "code",
   "execution_count": 15,
   "id": "51168184",
   "metadata": {},
   "outputs": [
    {
     "name": "stdout",
     "output_type": "stream",
     "text": [
      "1\n"
     ]
    }
   ],
   "source": [
    " collatz(1)"
   ]
  },
  {
   "cell_type": "code",
   "execution_count": 16,
   "id": "ff45523a",
   "metadata": {},
   "outputs": [
    {
     "name": "stdout",
     "output_type": "stream",
     "text": [
      "10\n",
      "5\n",
      "16\n",
      "8\n",
      "4\n",
      "2\n",
      "1\n"
     ]
    }
   ],
   "source": [
    "collatz(10)"
   ]
  },
  {
   "cell_type": "code",
   "execution_count": 17,
   "id": "2154a89b",
   "metadata": {},
   "outputs": [
    {
     "name": "stdout",
     "output_type": "stream",
     "text": [
      "1\n"
     ]
    }
   ],
   "source": [
    "collatz(1)"
   ]
  },
  {
   "cell_type": "code",
   "execution_count": 18,
   "id": "bb29cce0",
   "metadata": {},
   "outputs": [],
   "source": [
    "# Question 5\n",
    "\n",
    "# Write a recursive method binary() that takes a non-negative integer n and prints the binary representation of integer n.\n",
    "# binary(0) \n",
    "# 0 \n",
    "# binary(1) \n",
    "# 1 \n",
    "# binary(3) \n",
    "# 11 \n",
    "# binary(9) \n",
    "# 1001"
   ]
  },
  {
   "cell_type": "code",
   "execution_count": 19,
   "id": "2d616074",
   "metadata": {},
   "outputs": [],
   "source": [
    "# defining binary function\n",
    "def binary(n):\n",
    "    \n",
    "#     validating input of user and returning binary value\n",
    "    if n>0:\n",
    "        return int(format(n, \"b\"))\n",
    "       \n",
    "    else:\n",
    "         return 0"
   ]
  },
  {
   "cell_type": "code",
   "execution_count": 20,
   "id": "ea7b556d",
   "metadata": {},
   "outputs": [
    {
     "data": {
      "text/plain": [
       "0"
      ]
     },
     "execution_count": 20,
     "metadata": {},
     "output_type": "execute_result"
    }
   ],
   "source": [
    "binary(0)"
   ]
  },
  {
   "cell_type": "code",
   "execution_count": 21,
   "id": "8aa1cc96",
   "metadata": {},
   "outputs": [
    {
     "data": {
      "text/plain": [
       "1"
      ]
     },
     "execution_count": 21,
     "metadata": {},
     "output_type": "execute_result"
    }
   ],
   "source": [
    "binary(1)"
   ]
  },
  {
   "cell_type": "code",
   "execution_count": 22,
   "id": "b6608c06",
   "metadata": {},
   "outputs": [
    {
     "data": {
      "text/plain": [
       "11"
      ]
     },
     "execution_count": 22,
     "metadata": {},
     "output_type": "execute_result"
    }
   ],
   "source": [
    "binary(3)"
   ]
  },
  {
   "cell_type": "code",
   "execution_count": 23,
   "id": "394125b0",
   "metadata": {},
   "outputs": [
    {
     "data": {
      "text/plain": [
       "1001"
      ]
     },
     "execution_count": 23,
     "metadata": {},
     "output_type": "execute_result"
    }
   ],
   "source": [
    "binary(9)"
   ]
  },
  {
   "cell_type": "code",
   "execution_count": 24,
   "id": "899fc642",
   "metadata": {},
   "outputs": [
    {
     "data": {
      "text/plain": [
       "0"
      ]
     },
     "execution_count": 24,
     "metadata": {},
     "output_type": "execute_result"
    }
   ],
   "source": [
    "binary(-1)"
   ]
  },
  {
   "cell_type": "code",
   "execution_count": 25,
   "id": "04fe68c0",
   "metadata": {},
   "outputs": [
    {
     "data": {
      "text/plain": [
       "0"
      ]
     },
     "execution_count": 25,
     "metadata": {},
     "output_type": "execute_result"
    }
   ],
   "source": [
    "binary(-2)"
   ]
  },
  {
   "cell_type": "code",
   "execution_count": 26,
   "id": "712f6acd",
   "metadata": {},
   "outputs": [],
   "source": [
    "# Question 6\n",
    "\n",
    "# Implement a class named HeadingParser that can be used to parse an HTML document, and retrieve and print all the headings in the document. \n",
    "# You should implement your class as a subclass of HTMLParser, defined in Standard Library module html.parser. \n",
    "# When fed a string containing HTML code, your class should print the headings, one per line and in the order in which they appear in the document. \n",
    "# Each heading should be indented as follows: an h1 heading should have indentation 0, and h2 heading should have indentation 1, etc. \n",
    "# Test your implementation using w3c.html.\n",
    "\n",
    "# infile = open('w3c.html') \n",
    "# content = infile.read() \n",
    "# infile.close() \n",
    "# hp = HeadingParser() \n",
    "# hp.feed(content) \n",
    "# W3C Mission \n",
    "# Principles"
   ]
  },
  {
   "cell_type": "code",
   "execution_count": 27,
   "id": "e14644f4",
   "metadata": {},
   "outputs": [],
   "source": [
    "# importing relevant module\n",
    "from html.parser import HTMLParser\n",
    "\n",
    "# creating HeadingParser class\n",
    "class HeadingParser(HTMLParser):\n",
    "    \n",
    "#     defining init method\n",
    "    def __init__(self):                                                 \n",
    "        HTMLParser.__init__(self)                           \n",
    "        self.head = 0                                                          \n",
    "        self.intend = \"\"\n",
    "        \n",
    "#     defining starttag method\n",
    "    def handle_starttag(self, tag, attrs):              \n",
    "        if tag[:-1] == 'h':\n",
    "            self.head = 'type'\n",
    "            \n",
    "#       defining data handling method\n",
    "    def handle_data(self, data):                             \n",
    "        if self.head == \"type\":\n",
    "            print(self.intend+ data)                         \n",
    "            self.intend+= \"    \"\n",
    "            self.head=0 "
   ]
  },
  {
   "cell_type": "code",
   "execution_count": 28,
   "id": "71a4e566",
   "metadata": {},
   "outputs": [
    {
     "name": "stdout",
     "output_type": "stream",
     "text": [
      "W3C Mission\n",
      "    Principles\n"
     ]
    }
   ],
   "source": [
    "infile = open('w3c.html')\n",
    "content = infile.read()\n",
    "infile.close()\n",
    "\n",
    "hp = HeadingParser()\n",
    "hp.feed(content)"
   ]
  },
  {
   "cell_type": "code",
   "execution_count": 29,
   "id": "957eece2",
   "metadata": {},
   "outputs": [],
   "source": [
    "# Question 8.\n",
    "# Write SQL queries on the below database table that return:\n",
    "# a) All the temperature data.\n",
    "# b) All the cities, but without repetition.\n",
    "# c) All the records for India.\n",
    "# d) All the Fall records\n",
    "# e) The city, country, and season for which the average rainfall is between 200 and 400 millimeters.\n",
    "# f) The city and country for which the average Fall temperature is above 20 degrees, in increasing temperature order.\n",
    "# g) The total annual rainfall for Cairo.\n",
    "# h) The total rainfall for each season."
   ]
  },
  {
   "cell_type": "code",
   "execution_count": 30,
   "id": "900477af",
   "metadata": {},
   "outputs": [],
   "source": [
    "# importing relevant module\n",
    "import sqlite3\n",
    "\n",
    "# creating database connection\n",
    "con = sqlite3.connect('database')\n",
    "\n",
    "# creating cursor iterator\n",
    "cur = con.cursor()\n",
    "\n",
    "# creating table and inserting values\n",
    "cur.execute(\"CREATE TABLE database_table (City text, Country text, Season text, Temperature dec, Rainfall dec)\")\n",
    "cur.execute(\"INSERT INTO database_table VALUES ('Mumbai', 'India', 'Winter', 24.8, 5.9)\")\n",
    "cur.execute(\"INSERT INTO database_table VALUES ('Mumbai', 'India', 'Spring', 28.4, 16.2)\")\n",
    "cur.execute(\"INSERT INTO database_table VALUES ('Mumbai', 'India', 'Summer', 27.9, 1549.4)\")\n",
    "cur.execute(\"INSERT INTO database_table VALUES ('Mumbai', 'India', 'Fall', 27.6, 346.0)\")\n",
    "cur.execute(\"INSERT INTO database_table VALUES ('London', 'United Kingdom', 'Winter', 4.2, 207.7)\")\n",
    "cur.execute(\"INSERT INTO database_table VALUES ('London', 'United Kingdom', 'Spring', 8.3, 169.6)\")\n",
    "cur.execute(\"INSERT INTO database_table VALUES ('London', 'United Kingdom', 'Summer', 15.7, 157.0)\")\n",
    "cur.execute(\"INSERT INTO database_table VALUES ('London', 'United Kingdom', 'Fall', 10.4, 218.5)\")\n",
    "cur.execute(\"INSERT INTO database_table VALUES ('Cairo', 'Egypt', 'Winter', 13.6, 16.5)\")\n",
    "cur.execute(\"INSERT INTO database_table VALUES ('Cairo', 'Egypt', 'Spring', 20.7, 6.5)\")\n",
    "cur.execute(\"INSERT INTO database_table VALUES ('Cairo', 'Egypt', 'Summer', 27.7, 0.1)\")\n",
    "cur.execute(\"INSERT INTO database_table VALUES ('Cairo', 'Egypt', 'Fall', 22.2, 4.5)\")\n",
    "\n",
    "# committing modifications\n",
    "con.commit()\n",
    "\n",
    "# closing connection\n",
    "con.close()"
   ]
  },
  {
   "cell_type": "code",
   "execution_count": 31,
   "id": "4cf1b981",
   "metadata": {},
   "outputs": [
    {
     "name": "stdout",
     "output_type": "stream",
     "text": [
      "(24.8,)\n",
      "(28.4,)\n",
      "(27.9,)\n",
      "(27.6,)\n",
      "(4.2,)\n",
      "(8.3,)\n",
      "(15.7,)\n",
      "(10.4,)\n",
      "(13.6,)\n",
      "(20.7,)\n",
      "(27.7,)\n",
      "(22.2,)\n",
      "(24.8,)\n",
      "(28.4,)\n",
      "(27.9,)\n",
      "(27.6,)\n",
      "(4.2,)\n",
      "(8.3,)\n",
      "(15.7,)\n",
      "(10.4,)\n",
      "(13.6,)\n",
      "(20.7,)\n",
      "(27.7,)\n",
      "(22.2,)\n",
      "('Mumbai',)\n",
      "('London',)\n",
      "('Cairo',)\n",
      "('Mumbai', 'India', 'Fall', 27.6, 346)\n",
      "('London', 'United Kingdom', 'Fall', 10.4, 218.5)\n",
      "('Cairo', 'Egypt', 'Fall', 22.2, 4.5)\n",
      "('Mumbai', 'India', 'Fall', 27.6, 346)\n",
      "('London', 'United Kingdom', 'Fall', 10.4, 218.5)\n",
      "('Cairo', 'Egypt', 'Fall', 22.2, 4.5)\n",
      "('Mumbai', 'India', 'Winter', 24.8, 5.9)\n",
      "('Mumbai', 'India', 'Spring', 28.4, 16.2)\n",
      "('Mumbai', 'India', 'Summer', 27.9, 1549.4)\n",
      "('Mumbai', 'India', 'Fall', 27.6, 346)\n",
      "('Mumbai', 'India', 'Winter', 24.8, 5.9)\n",
      "('Mumbai', 'India', 'Spring', 28.4, 16.2)\n",
      "('Mumbai', 'India', 'Summer', 27.9, 1549.4)\n",
      "('Mumbai', 'India', 'Fall', 27.6, 346)\n",
      "('Mumbai', 'India')\n",
      "('Mumbai', 'India')\n",
      "('Cairo', 'Egypt')\n",
      "('Cairo', 'Egypt')\n",
      "('Mumbai', 'India', 'Fall')\n",
      "('London', 'United Kingdom', 'Winter')\n",
      "('London', 'United Kingdom', 'Fall')\n",
      "('Mumbai', 'India', 'Fall')\n",
      "('London', 'United Kingdom', 'Winter')\n",
      "('London', 'United Kingdom', 'Fall')\n",
      "[(55.2,)]\n",
      "(1138.0, 'Fall')\n",
      "(384.59999999999997, 'Spring')\n",
      "(3413.0, 'Summer')\n",
      "(460.2, 'Winter')\n"
     ]
    }
   ],
   "source": [
    "# importing relevant module\n",
    "import sqlite3\n",
    "\n",
    "# creating database connection\n",
    "con = sqlite3.connect('database')\n",
    "\n",
    "# creating cursor iterator\n",
    "cur = con.cursor()\n",
    "\n",
    "# (a)\n",
    "cur.execute('SELECT Temperature FROM database_table ')\n",
    "for record in cur:\n",
    "    print(record)\n",
    "\n",
    "# (b)    \n",
    "cur.execute('SELECT DISTINCT City FROM database_table ')\n",
    "for record in cur:\n",
    "    print(record)\n",
    "    \n",
    "# (c)    \n",
    "cur.execute('SELECT * FROM database_table where Season = \"Fall\"')\n",
    "for record in cur:\n",
    "    print(record)\n",
    "\n",
    "# (d)\n",
    "cur.execute('SELECT * FROM database_table where Country = \"India\"')\n",
    "for record in cur:\n",
    "    print(record)\n",
    "    \n",
    "# (e)   \n",
    "cur.execute('SELECT City, Country FROM database_table where (Season = \"Fall\") AND (temperature > 20) ORDER BY Temperature DESC')\n",
    "for record in cur:\n",
    "    print(record)\n",
    "    \n",
    "# (f)    \n",
    "cur.execute('SELECT City, Country, Season FROM database_table where (rainfall > 200) AND (rainfall < 400)')\n",
    "for record in cur:\n",
    "    print(record)\n",
    "    \n",
    "# (g)    \n",
    "cur.execute('SELECT SUM(Rainfall) FROM database_table where City = \"Cairo\"')\n",
    "Annual_rainfall=cur.fetchall()\n",
    "print(Annual_rainfall)\n",
    "\n",
    "# (h)\n",
    "cur.execute('SELECT SUM(Rainfall), Season FROM database_table GROUP BY Season')\n",
    "for record in cur:\n",
    "    print(record)"
   ]
  },
  {
   "cell_type": "code",
   "execution_count": 32,
   "id": "a3922d5b",
   "metadata": {},
   "outputs": [],
   "source": [
    "# Question 9\n",
    "\n",
    "# Suppose list words is defined as follows:\n",
    "\n",
    "# words = ['The', 'quick', 'brown', 'fox', 'jumps', 'over', 'the', 'lazy', 'dog']\n",
    "\n",
    "# Write list comprehension expressions that use list words and generate the following lists:\n",
    "\n",
    "# a) ['THE', 'QUICK', 'BROWN', 'FOX', 'JUMPS', 'OVER', 'THE', 'LAZY', 'DOG']\n",
    "\n",
    "# b) ['the', 'quick', 'brown', 'fox', 'jumps', 'over', 'the', 'lazy', 'dog']\n",
    "\n",
    "# c) [3, 5, 5, 3, 5, 4, 3, 4, 3] (the list of lengths of words in list words).\n",
    "\n",
    "# d) [['THE', 'the', 3], ['QUICK', 'quick', 5], ['BROWN', 'brown', 5], ['FOX', 'fox', 3], ['JUMPS', 'jumps', 5], ['OVER', 'over', 4], ['THE', 'the', 3], ['LAZY', 'lazy', 4], ['DOG', 'dog', 3]]\n",
    "\n",
    "# (the list containing a list for every word of list words, where each list contains the word in uppercase and lowercase and the length of the word.)\n",
    "\n",
    "# e) ['The', 'quick', 'brown', 'fox', 'jumps', 'over', 'the', 'lazy', 'dog'] (the list of words in list words containing 4 or more characters.)"
   ]
  },
  {
   "cell_type": "code",
   "execution_count": 33,
   "id": "58d496b7",
   "metadata": {},
   "outputs": [
    {
     "data": {
      "text/plain": [
       "['THE', 'QUICK', 'BROWN', 'FOX', 'JUMPS', 'OVER', 'THE', 'LAZY', 'DOG']"
      ]
     },
     "execution_count": 33,
     "metadata": {},
     "output_type": "execute_result"
    }
   ],
   "source": [
    "# (a)\n",
    "# creating a list\n",
    "words = ['The', 'quick', 'brown', 'fox', 'jumps', 'over', 'the', 'lazy', 'dog']\n",
    "\n",
    "# iterating over the list to print words in uppercase\n",
    "[a.upper() for a in words]"
   ]
  },
  {
   "cell_type": "code",
   "execution_count": 34,
   "id": "f8593a6d",
   "metadata": {},
   "outputs": [
    {
     "data": {
      "text/plain": [
       "['the', 'quick', 'brown', 'fox', 'jumps', 'over', 'the', 'lazy', 'dog']"
      ]
     },
     "execution_count": 34,
     "metadata": {},
     "output_type": "execute_result"
    }
   ],
   "source": [
    "# (b)\n",
    "# iterating over the list to print words in lowercase\n",
    "[a.lower() for a in words]"
   ]
  },
  {
   "cell_type": "code",
   "execution_count": 35,
   "id": "19a3e580",
   "metadata": {},
   "outputs": [
    {
     "data": {
      "text/plain": [
       "[3, 5, 5, 3, 5, 4, 3, 4, 3]"
      ]
     },
     "execution_count": 35,
     "metadata": {},
     "output_type": "execute_result"
    }
   ],
   "source": [
    "# (c)\n",
    "# iterating over the list to print a list of length of each word\n",
    "[len(a) for a in words]"
   ]
  },
  {
   "cell_type": "code",
   "execution_count": 36,
   "id": "4ffb82a2",
   "metadata": {},
   "outputs": [
    {
     "data": {
      "text/plain": [
       "[['THE', 'the', 3],\n",
       " ['QUICK', 'quick', 5],\n",
       " ['BROWN', 'brown', 5],\n",
       " ['FOX', 'fox', 3],\n",
       " ['JUMPS', 'jumps', 5],\n",
       " ['OVER', 'over', 4],\n",
       " ['THE', 'the', 3],\n",
       " ['LAZY', 'lazy', 4],\n",
       " ['DOG', 'dog', 3]]"
      ]
     },
     "execution_count": 36,
     "metadata": {},
     "output_type": "execute_result"
    }
   ],
   "source": [
    "# (d)\n",
    "# iterating over the list to print a list of uppercase, lowercase and length of each word\n",
    "[[a.upper(), a.lower(), len(a)] for a in words]"
   ]
  },
  {
   "cell_type": "code",
   "execution_count": 37,
   "id": "b3bb69e6",
   "metadata": {},
   "outputs": [
    {
     "data": {
      "text/plain": [
       "['quick', 'brown', 'jumps', 'over', 'lazy']"
      ]
     },
     "execution_count": 37,
     "metadata": {},
     "output_type": "execute_result"
    }
   ],
   "source": [
    "# (e)\n",
    "# iterating over the list to print a list of words with length greater than or equal to 4\n",
    "[a for a in words if len(a) >= 4]"
   ]
  }
 ],
 "metadata": {
  "kernelspec": {
   "display_name": "Python 3 (ipykernel)",
   "language": "python",
   "name": "python3"
  },
  "language_info": {
   "codemirror_mode": {
    "name": "ipython",
    "version": 3
   },
   "file_extension": ".py",
   "mimetype": "text/x-python",
   "name": "python",
   "nbconvert_exporter": "python",
   "pygments_lexer": "ipython3",
   "version": "3.10.7"
  }
 },
 "nbformat": 4,
 "nbformat_minor": 5
}
